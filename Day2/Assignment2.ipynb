{
 "cells": [
  {
   "cell_type": "code",
   "execution_count": null,
   "metadata": {},
   "outputs": [],
   "source": [
    "# 1. Write a Python program to do arithmetical operations \n",
    "# addition, subtraction, multiplication and division.\n",
    "num1=int(input('Enter the first number: '))\n",
    "num2=int(input('Enter the second number: '))\n",
    "print('Number 1:', num1)\n",
    "print('Number 2:', num2)\n",
    "print()\n",
    "\n",
    "print('Sum of',num1,'&',num2,'is:',num1+num2)\n",
    "print('Difference of',num1,'&',num2,'is:',num1-num2)\n",
    "print('Product of',num1,'&',num2,'is:',num1*num2)\n",
    "print('Division of',num1,'&',num2,'is:',num1/num2)"
   ]
  },
  {
   "cell_type": "code",
   "execution_count": 1,
   "metadata": {},
   "outputs": [
    {
     "name": "stdout",
     "output_type": "stream",
     "text": [
      "Height: 12.0\n",
      "Base: 12.0\n",
      "\n",
      "Area of triangle: 72.0\n"
     ]
    }
   ],
   "source": [
    "# 2. Write a Python program to find the area of a triangle.\n",
    "H=float(input('Enter the height of the triangle: '))\n",
    "B=float(input('Enter the base length of the triangle: '))\n",
    "print('Height:', H)\n",
    "print('Base:', B)\n",
    "print()\n",
    "\n",
    "area_of_triangle=0.5*B*H\n",
    "print('Area of triangle:', area_of_triangle)"
   ]
  },
  {
   "cell_type": "code",
   "execution_count": 2,
   "metadata": {},
   "outputs": [
    {
     "name": "stdout",
     "output_type": "stream",
     "text": [
      "Calendar of February 2025\n",
      "   February 2025\n",
      "Mo Tu We Th Fr Sa Su\n",
      "                1  2\n",
      " 3  4  5  6  7  8  9\n",
      "10 11 12 13 14 15 16\n",
      "17 18 19 20 21 22 23\n",
      "24 25 26 27 28\n",
      "\n"
     ]
    }
   ],
   "source": [
    "# 3. Write a program to display calendar of any month using calendar module of python.\n",
    "import calendar\n",
    "month=int(input('Enter the month (1-12): '))\n",
    "year=int(input('Enter the year: '))\n",
    "print('Calendar of', calendar.month_name[month],year)\n",
    "print(calendar.month(year, month))"
   ]
  },
  {
   "cell_type": "code",
   "execution_count": null,
   "metadata": {},
   "outputs": [
    {
     "name": "stdout",
     "output_type": "stream",
     "text": [
      "0\n",
      "\n",
      "The number is zero\n"
     ]
    }
   ],
   "source": [
    "# 4. Write a Python Program to Check if a Number is Positive, Negative or Zero.\n",
    "num=int(input('Enter the number: '))\n",
    "print(num)\n",
    "print()\n",
    "\n",
    "if num>0:\n",
    "    print('The number is Positive')\n",
    "elif num<0:\n",
    "    print('The number is Negative')\n",
    "else:\n",
    "    print('The number is Zero')"
   ]
  },
  {
   "cell_type": "code",
   "execution_count": 4,
   "metadata": {},
   "outputs": [
    {
     "name": "stdout",
     "output_type": "stream",
     "text": [
      "3\n",
      "\n",
      "The number is Odd\n"
     ]
    }
   ],
   "source": [
    "# 5. Write a Python Program to Check if a Number is Odd or Even.\n",
    "num=int(input('Enter the number: '))\n",
    "print(num)\n",
    "print()\n",
    "\n",
    "if num%2==0:\n",
    "    print('The number is Even')\n",
    "else:\n",
    "    print('The number is Odd')"
   ]
  },
  {
   "cell_type": "code",
   "execution_count": null,
   "metadata": {},
   "outputs": [],
   "source": [
    "# 6. Write a Python Program to Check Leap Year. The year should be entered by user.\n",
    "year=int(input('Enter the year: '))\n",
    "print(year)\n",
    "print()\n",
    "\n",
    "if year%4==0:\n",
    "    print('The year is a Leap Year')\n",
    "else:\n",
    "    print('The number is not a Leap Year')"
   ]
  },
  {
   "cell_type": "code",
   "execution_count": 9,
   "metadata": {},
   "outputs": [
    {
     "name": "stdout",
     "output_type": "stream",
     "text": [
      "1\n",
      "2\n",
      "3\n",
      "5\n",
      "7\n"
     ]
    }
   ],
   "source": [
    "# 7. Write a Python Program to Print all Prime Numbers in an Interval of 1-10\n",
    "def check_prime(n):\n",
    "    prime=True\n",
    "    for i in range(2,int(n**0.5)+1):\n",
    "        if n%i==0:\n",
    "            prime=False\n",
    "            break\n",
    "    return prime\n",
    "\n",
    "for _ in range(1,10):\n",
    "    if check_prime(_):\n",
    "        print(_)"
   ]
  },
  {
   "cell_type": "code",
   "execution_count": 10,
   "metadata": {},
   "outputs": [
    {
     "name": "stdout",
     "output_type": "stream",
     "text": [
      "3\n",
      "\n",
      "Factorial of 3 is: 6\n"
     ]
    }
   ],
   "source": [
    "# 8. Write a Python Program to Find the Factorial of a Number.\n",
    "num=int(input('Enter the number: '))\n",
    "print(num)\n",
    "print()\n",
    "\n",
    "factorial=1\n",
    "for i in range(1,num+1):\n",
    "    factorial*=i\n",
    "print('Factorial of', num, 'is:', factorial)"
   ]
  },
  {
   "cell_type": "code",
   "execution_count": 11,
   "metadata": {},
   "outputs": [
    {
     "name": "stdout",
     "output_type": "stream",
     "text": [
      "12\n",
      "\n",
      "12 x 1 = 12\n",
      "12 x 2 = 24\n",
      "12 x 3 = 36\n",
      "12 x 4 = 48\n",
      "12 x 5 = 60\n",
      "12 x 6 = 72\n",
      "12 x 7 = 84\n",
      "12 x 8 = 96\n",
      "12 x 9 = 108\n",
      "12 x 10 = 120\n"
     ]
    }
   ],
   "source": [
    "# 9. Write a Python Program to Display the multiplication Table of any number \n",
    "# entered by user.\n",
    "num=int(input('Enter the number: '))\n",
    "print(num)\n",
    "print()\n",
    "\n",
    "for i in range(1,11):\n",
    "    print(num, 'x', i, '=', num*i)"
   ]
  },
  {
   "cell_type": "code",
   "execution_count": 15,
   "metadata": {},
   "outputs": [
    {
     "name": "stdout",
     "output_type": "stream",
     "text": [
      "172.72\n"
     ]
    }
   ],
   "source": [
    "# 10. Write a Python Program to Make a Simple Calculator \n",
    "# with 4 basic mathematical operations.\n",
    "exp=input('Enter the Expression:(Space-separated) ').split()\n",
    "a=0\n",
    "b=0\n",
    "op=''\n",
    "for _ in range(len(exp)):\n",
    "    if _==0:\n",
    "        a=float(exp[_])\n",
    "    elif _==1:\n",
    "        op=exp[_]\n",
    "    elif _==2:\n",
    "        b=float(exp[_])\n",
    "\n",
    "match op:\n",
    "    case '+':\n",
    "        print(a+b)\n",
    "    case '-':\n",
    "        print(a-b)\n",
    "    case '*':\n",
    "        print(a*b)\n",
    "    case '/':\n",
    "        if b!=0:\n",
    "            print(a/b)\n",
    "        else:\n",
    "            print('Error: Division by zero')\n",
    "    case _:\n",
    "        print('Error: Invalid operator')"
   ]
  },
  {
   "cell_type": "code",
   "execution_count": 19,
   "metadata": {},
   "outputs": [
    {
     "name": "stdout",
     "output_type": "stream",
     "text": [
      "BMI: 24.22145328719723\n",
      "The person is Normal.\n"
     ]
    }
   ],
   "source": [
    "# 11. Write a Python Program to calculate Body Mass Index of a person.\n",
    "# Also print if the person is underweight, overweight or obese.\n",
    "\n",
    "W=float(input(\"Enter the person's Weight in Kgs: \"))\n",
    "H=float(input(\"Enter the person's Height in cms: \"))\n",
    "\n",
    "if H!=0 and W!=0:\n",
    "    bmi=(W/(H**2))*(10**4)\n",
    "else:\n",
    "    print(\"Please enter valid values for weight and height.\")\n",
    "print(f'BMI: {bmi}')\n",
    "\n",
    "if bmi<18.5:\n",
    "    print(\"The person is underweight.\")\n",
    "elif bmi>=18.5 and bmi<25:\n",
    "    print(\"The person is Normal.\")\n",
    "elif bmi>=25 and bmi<30:\n",
    "    print(\"The person is Overweight.\")\n",
    "else:\n",
    "    print(\"The person is Obese.\")"
   ]
  },
  {
   "cell_type": "code",
   "execution_count": null,
   "metadata": {},
   "outputs": [],
   "source": [
    "# 12. Write a Python Program to find sum of array of 5 elements.\n",
    "array=list(map(int,input('Enter the array elements as space-separated values:\\n').split()))\n",
    "sum=0\n",
    "for i in array:\n",
    "    sum+=i\n",
    "print('Sum of array:',sum)\n"
   ]
  },
  {
   "cell_type": "code",
   "execution_count": 1,
   "metadata": {},
   "outputs": [
    {
     "name": "stdout",
     "output_type": "stream",
     "text": [
      "Maximum element: 144\n",
      "Minimum element: -3\n"
     ]
    }
   ],
   "source": [
    "# 13. Write a Python Program to find largest and smallest element in an array.\n",
    "lst=list(map(int,input('Enter the list elements as space-separated values:\\n').split()))\n",
    "max=float('inf')*-1\n",
    "min=float('inf')\n",
    "\n",
    "for ele in lst:\n",
    "    if ele>max:\n",
    "        max=ele\n",
    "    if ele<min:\n",
    "        min=ele\n",
    "print('Maximum element:', max)\n",
    "print('Minimum element:', min)"
   ]
  },
  {
   "cell_type": "code",
   "execution_count": null,
   "metadata": {},
   "outputs": [],
   "source": [
    "# 14. Write a Python program to Multiply all numbers in the list 7 elements.\n",
    "lst=list(map(int,input('Enter the lst elements as space-separated values:\\n').split()))\n",
    "mult=1\n",
    "for ele in lst:\n",
    "    mult*=ele\n",
    "print('Product of all elements of the list:',mult)"
   ]
  }
 ],
 "metadata": {
  "kernelspec": {
   "display_name": "Python 3",
   "language": "python",
   "name": "python3"
  },
  "language_info": {
   "codemirror_mode": {
    "name": "ipython",
    "version": 3
   },
   "file_extension": ".py",
   "mimetype": "text/x-python",
   "name": "python",
   "nbconvert_exporter": "python",
   "pygments_lexer": "ipython3",
   "version": "3.12.1"
  }
 },
 "nbformat": 4,
 "nbformat_minor": 2
}
