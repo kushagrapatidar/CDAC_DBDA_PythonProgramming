{
 "cells": [
  {
   "cell_type": "code",
   "execution_count": 1,
   "metadata": {},
   "outputs": [
    {
     "name": "stdout",
     "output_type": "stream",
     "text": [
      "CDAC BLR\n",
      "<class 'str'>\n"
     ]
    }
   ],
   "source": [
    "# Activity 1\n",
    "strng=input(\"Enter the string: \")\n",
    "print(strng)\n",
    "print(type(strng))"
   ]
  },
  {
   "cell_type": "code",
   "execution_count": 2,
   "metadata": {},
   "outputs": [
    {
     "name": "stdout",
     "output_type": "stream",
     "text": [
      "Boolean A True\n",
      "Boolean B False\n",
      "Boolean A \"and\" Boolean B False\n",
      "Boolean A \"or\" Boolean B True\n",
      "\"not\" Boolean B True\n"
     ]
    }
   ],
   "source": [
    "# Activity 2\n",
    "boola=True\n",
    "boolb=False\n",
    "print('Boolean A',boola)\n",
    "print('Boolean B',boolb)\n",
    "print('Boolean A \"and\" Boolean B',boola and boolb)\n",
    "print('Boolean A \"or\" Boolean B',boola or boolb)\n",
    "print('\"not\" Boolean B',not boolb)"
   ]
  },
  {
   "cell_type": "code",
   "execution_count": 3,
   "metadata": {},
   "outputs": [
    {
     "name": "stdout",
     "output_type": "stream",
     "text": [
      "25\n",
      "<class 'int'>\n"
     ]
    }
   ],
   "source": [
    "# Activity 3\n",
    "intgr=int(input(\"Enter the string: \"))\n",
    "print(intgr)\n",
    "print(type(intgr))"
   ]
  },
  {
   "cell_type": "code",
   "execution_count": 5,
   "metadata": {},
   "outputs": [
    {
     "name": "stdout",
     "output_type": "stream",
     "text": [
      "25\n",
      "<class 'str'>\n",
      "25\n",
      "<class 'int'>\n"
     ]
    }
   ],
   "source": [
    "# Activity 4\n",
    "strng=input(\"Enter the string: \")\n",
    "print(strng)\n",
    "print(type(strng))\n",
    "intgr=int(strng)\n",
    "print(intgr)\n",
    "print(type(intgr))"
   ]
  },
  {
   "cell_type": "code",
   "execution_count": 6,
   "metadata": {},
   "outputs": [
    {
     "name": "stdout",
     "output_type": "stream",
     "text": [
      "12\n",
      "14\n",
      "15\n",
      "5\n",
      "5\n"
     ]
    }
   ],
   "source": [
    "# Activity 5\n",
    "a,b,c=12,14,15\n",
    "print(a)\n",
    "print(b)\n",
    "print(c)\n",
    "\n",
    "d=e=5\n",
    "print(d)\n",
    "print(e)"
   ]
  },
  {
   "cell_type": "code",
   "execution_count": null,
   "metadata": {},
   "outputs": [
    {
     "name": "stdout",
     "output_type": "stream",
     "text": [
      "CDAC\n",
      "DBDA\n",
      "CDACDBDA\n"
     ]
    }
   ],
   "source": [
    "# Activity 6\n",
    "strng1=input(\"Enter string1: \")\n",
    "strng2=input(\"Enter string2: \")\n",
    "print(strng1)\n",
    "print(strng2)\n",
    "concat_strng=strng1+strng2\n",
    "print(concat_strng)"
   ]
  },
  {
   "cell_type": "code",
   "execution_count": 9,
   "metadata": {},
   "outputs": [
    {
     "name": "stdout",
     "output_type": "stream",
     "text": [
      "[12, 14, 16, 15, 13, 24]\n",
      "[12, 14, 16, 18, 13, 24]\n"
     ]
    }
   ],
   "source": [
    "# Activity 7\n",
    "lst=[12,14,16,15,13,24]\n",
    "print(lst)\n",
    "lst[3]=18\n",
    "print(lst)\n"
   ]
  },
  {
   "cell_type": "code",
   "execution_count": 1,
   "metadata": {},
   "outputs": [
    {
     "name": "stdout",
     "output_type": "stream",
     "text": [
      "(12, 14, 16)\n",
      "14\n"
     ]
    },
    {
     "ename": "TypeError",
     "evalue": "'tuple' object does not support item assignment",
     "output_type": "error",
     "traceback": [
      "\u001b[0;31m---------------------------------------------------------------------------\u001b[0m",
      "\u001b[0;31mTypeError\u001b[0m                                 Traceback (most recent call last)",
      "Cell \u001b[0;32mIn[1], line 6\u001b[0m\n\u001b[1;32m      3\u001b[0m \u001b[38;5;28mprint\u001b[39m(tpl)\n\u001b[1;32m      4\u001b[0m \u001b[38;5;28mprint\u001b[39m(tpl[\u001b[38;5;241m1\u001b[39m])\n\u001b[0;32m----> 6\u001b[0m \u001b[43mtpl\u001b[49m\u001b[43m[\u001b[49m\u001b[38;5;241;43m1\u001b[39;49m\u001b[43m]\u001b[49m\u001b[38;5;241m=\u001b[39m\u001b[38;5;241m56\u001b[39m\n\u001b[1;32m      7\u001b[0m \u001b[38;5;28mprint\u001b[39m(tpl)\n",
      "\u001b[0;31mTypeError\u001b[0m: 'tuple' object does not support item assignment"
     ]
    }
   ],
   "source": [
    "# Activity 8\n",
    "tpl=(12,14,16)\n",
    "print(tpl)\n",
    "print(tpl[1])\n",
    "\n",
    "tpl[1]=56\n",
    "print(tpl)"
   ]
  },
  {
   "cell_type": "code",
   "execution_count": 2,
   "metadata": {},
   "outputs": [
    {
     "name": "stdout",
     "output_type": "stream",
     "text": [
      "{'Institute': 'CDAC', 'Location': 'PUNE', 'Course': 'PG-DBDA', 'Module': 'Python Programming'}\n",
      "PG-DBDA\n",
      "{'Institute': 'CDAC', 'Location': 'BLR', 'Course': 'PG-DBDA', 'Module': 'Python Programming'}\n"
     ]
    }
   ],
   "source": [
    "# Activity 9\n",
    "dct={'Institute':'CDAC', 'Location':'PUNE', 'Course':'PG-DBDA', 'Module':'Python Programming'}\n",
    "print(dct)\n",
    "print(dct['Course'])\n",
    "dct['Location']='BLR'\n",
    "print(dct)"
   ]
  },
  {
   "cell_type": "code",
   "execution_count": 4,
   "metadata": {},
   "outputs": [
    {
     "name": "stdout",
     "output_type": "stream",
     "text": [
      "{16, 24, 12, 13, 14, 15}\n",
      "{16, 24, 25, 12, 13, 14, 15}\n"
     ]
    }
   ],
   "source": [
    "# Activity 10\n",
    "st={12,14,16,15,12,13,24}\n",
    "print(st)\n",
    "st.add(25)\n",
    "print(st)"
   ]
  },
  {
   "cell_type": "code",
   "execution_count": 7,
   "metadata": {},
   "outputs": [
    {
     "name": "stdout",
     "output_type": "stream",
     "text": [
      "frozenset({16, 24, 12, 13, 14, 15})\n"
     ]
    }
   ],
   "source": [
    "# Activity 11\n",
    "frzn_set=frozenset({12,14,16,12,15,13,24})\n",
    "print(frzn_set)"
   ]
  },
  {
   "cell_type": "code",
   "execution_count": null,
   "metadata": {},
   "outputs": [],
   "source": []
  }
 ],
 "metadata": {
  "kernelspec": {
   "display_name": "Python 3 (ipykernel)",
   "language": "python",
   "name": "python3"
  },
  "language_info": {
   "codemirror_mode": {
    "name": "ipython",
    "version": 3
   },
   "file_extension": ".py",
   "mimetype": "text/x-python",
   "name": "python",
   "nbconvert_exporter": "python",
   "pygments_lexer": "ipython3",
   "version": "3.12.1"
  }
 },
 "nbformat": 4,
 "nbformat_minor": 2
}
