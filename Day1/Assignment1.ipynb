{
 "cells": [
  {
   "cell_type": "code",
   "execution_count": null,
   "metadata": {},
   "outputs": [
    {
     "name": "stdout",
     "output_type": "stream",
     "text": [
      "Sum of 25 & 12 is: 37\n",
      "Difference of 25 & 12 is: 13\n",
      "Product of 25 & 12 is: 300\n",
      "Division of 25 & 12 is: 2.0833333333333335\n"
     ]
    }
   ],
   "source": [
    "# 1. Write a python code that takes two numbers as input and performs \n",
    "# addition, subtraction,multiplication, and division. Print the results.\n",
    "num1=int(input('Enter the first number: '))\n",
    "num2=int(input('Enter the second number: '))\n",
    "print('Number 1:', num1)\n",
    "print('Number 2:', num2)\n",
    "print()\n",
    "\n",
    "print('Sum of',num1,'&',num2,'is:',num1+num2)\n",
    "print('Difference of',num1,'&',num2,'is:',num1-num2)\n",
    "print('Product of',num1,'&',num2,'is:',num1*num2)\n",
    "print('Division of',num1,'&',num2,'is:',num1/num2)"
   ]
  },
  {
   "cell_type": "code",
   "execution_count": null,
   "metadata": {},
   "outputs": [
    {
     "name": "stdout",
     "output_type": "stream",
     "text": [
      "15 is greater 5\n"
     ]
    }
   ],
   "source": [
    "# 2. Write a python code that takes two numbers and \n",
    "# returns the larger of the two without using functions\n",
    "num1=int(input('Enter the first number: '))\n",
    "num2=int(input('Enter the second number: '))\n",
    "print('Number 1:', num1)\n",
    "print('Number 2:', num2)\n",
    "print()\n",
    "\n",
    "if num1>num2:\n",
    "    print(num1,'is greater',num2)\n",
    "elif num1<num2:\n",
    "    print(num2,'is greater',num1)\n",
    "else:\n",
    "    print(num2,'is equal to',num1)"
   ]
  },
  {
   "cell_type": "code",
   "execution_count": 3,
   "metadata": {},
   "outputs": [
    {
     "name": "stdout",
     "output_type": "stream",
     "text": [
      "List 1: [1, 2, 3]\n",
      "List 2: [4, 5, 6]\n",
      "\n",
      "Merged List: [1, 2, 3, 4, 5, 6]\n"
     ]
    }
   ],
   "source": [
    "# 3. Write a python code to merge two lists and get all the elements in a single list.\n",
    "list1=[1,2,3]\n",
    "list2=[4,5,6]\n",
    "print('List 1:', list1)\n",
    "print('List 2:', list2)\n",
    "print()\n",
    "\n",
    "merged_list=list1+list2\n",
    "print('Merged List:', merged_list)"
   ]
  },
  {
   "cell_type": "code",
   "execution_count": 4,
   "metadata": {},
   "outputs": [
    {
     "name": "stdout",
     "output_type": "stream",
     "text": [
      "Nested List: [[1, 2, 3, 4], [5, 6, 7, 8], [9, 10, 11, 12]]\n",
      "Printing element \"5\" using index [1][0]: 5\n"
     ]
    }
   ],
   "source": [
    "# 4. Write a python code to define a nested Lists (2D List) and \n",
    "# show how to access its elements.\n",
    "\n",
    "nstd_lst=[[1,2,3,4],\n",
    "          [5,6,7,8],\n",
    "          [9,10,11,12]]\n",
    "print('Nested List:', nstd_lst)\n",
    "\n",
    "print('Printing element \"5\" using index [1][0]:', nstd_lst[1][0])"
   ]
  },
  {
   "cell_type": "code",
   "execution_count": null,
   "metadata": {},
   "outputs": [
    {
     "name": "stdout",
     "output_type": "stream",
     "text": [
      "['1', '2', '3', '4', '5', '6', '7', '8', '9', '1']\n",
      "['1', '2', '3', '4', '5', '6', '7', '8', '9', '1', \"'12\", '14', '15']\n"
     ]
    }
   ],
   "source": [
    "# 5. Input a list of 10 elements and try to add 3 more elements in the last using python code.\n",
    "lst=list()\n",
    "while len(lst)<10:\n",
    "    lst.append(input('Enter the element: '))\n",
    "print(lst)\n",
    "\n",
    "for _ in range(3):\n",
    "    lst.append(input('Enter the additional element: '))\n",
    "\n",
    "print(lst)"
   ]
  },
  {
   "cell_type": "code",
   "execution_count": 8,
   "metadata": {},
   "outputs": [
    {
     "name": "stdout",
     "output_type": "stream",
     "text": [
      "Final List:  ['1', '5', '2', '41', '3']\n",
      "Reversed List: ['3', '41', '2', '5', '1']\n"
     ]
    }
   ],
   "source": [
    "# 6. Write a python code to get 5 elements from user for forming a list.\n",
    "# Also print the final and reverse list.\n",
    "\n",
    "lst=list()\n",
    "while len(lst)<5:\n",
    "    lst.append(input('Enter the element: '))\n",
    "print('Final List: ',lst)\n",
    "print('Reversed List:', lst[::-1])"
   ]
  },
  {
   "cell_type": "code",
   "execution_count": 9,
   "metadata": {},
   "outputs": [
    {
     "name": "stdout",
     "output_type": "stream",
     "text": [
      "List: [1, 22, 49, 10, 15, 24]\n",
      "Smallest number: 1\n",
      "Largest number: 49\n"
     ]
    }
   ],
   "source": [
    "# 7. Find the largest and smallest number in the list which taken as input from user\n",
    "# using list operations with python code.\n",
    "\n",
    "lst=list(map(int,input('Enter the list elements as space-separated values:\\n').split()))\n",
    "print('List:', lst)\n",
    "\n",
    "smallest=min(lst)\n",
    "largest=max(lst)\n",
    "print('Smallest number:', smallest)\n",
    "print('Largest number:', largest)"
   ]
  },
  {
   "cell_type": "code",
   "execution_count": 11,
   "metadata": {},
   "outputs": [
    {
     "name": "stdout",
     "output_type": "stream",
     "text": [
      "Number of students: 4\n",
      "Arham: Blue\n",
      "Lisa: Green\n",
      "Vinod: Purple\n"
     ]
    }
   ],
   "source": [
    "# 8. Given a dictionary of students and their favourite colours:\n",
    "people={'Arham':'Blue','Lisa':'Yellow','Vinod':'Purple','Jenny':'Pink'}\n",
    "\n",
    "# a) Find out how many students are in the list\n",
    "print('Number of students:', len(people))\n",
    "\n",
    "# b) Change Lisa’s favourite colour\n",
    "people['Lisa']='Green'\n",
    "\n",
    "# c) Remove 'Jenny' and her favourite colour\n",
    "del people['Jenny']\n",
    "\n",
    "# d) Sort and print students and their favourite colours alphabetically by name\n",
    "for key, value in sorted(people.items()):\n",
    "    print(f'{key}: {value}')"
   ]
  },
  {
   "cell_type": "code",
   "execution_count": 14,
   "metadata": {},
   "outputs": [
    {
     "name": "stdout",
     "output_type": "stream",
     "text": [
      "Variable 1: A\n",
      "Variable 2: B\n",
      "\n",
      "Variable 1: B\n",
      "Variable 2: A\n"
     ]
    }
   ],
   "source": [
    "# 9. Write a Python program to swap two variables.\n",
    "var1=input('Enter the first number: ')\n",
    "var2=input('Enter the second number: ')\n",
    "print('Variable 1:', var1)\n",
    "print('Variable 2:', var2)\n",
    "print()\n",
    "\n",
    "temp=var1\n",
    "var1=var2\n",
    "var2=temp\n",
    "print('Variable 1:', var1)\n",
    "print('Variable 2:', var2)"
   ]
  },
  {
   "cell_type": "code",
   "execution_count": 15,
   "metadata": {},
   "outputs": [
    {
     "name": "stdout",
     "output_type": "stream",
     "text": [
      "Variable 1: A\n",
      "Variable 2: B\n",
      "\n",
      "Variable 1: B\n",
      "Variable 2: A\n"
     ]
    }
   ],
   "source": [
    "# 10. Write a python program to swap two variables without using a third variable.\n",
    "var1=input('Enter the first number: ')\n",
    "var2=input('Enter the second number: ')\n",
    "print('Variable 1:', var1)\n",
    "print('Variable 2:', var2)\n",
    "print()\n",
    "\n",
    "var1, var2 = var2, var1\n",
    "print('Variable 1:', var1)\n",
    "print('Variable 2:', var2)"
   ]
  },
  {
   "cell_type": "code",
   "execution_count": 20,
   "metadata": {},
   "outputs": [
    {
     "name": "stdout",
     "output_type": "stream",
     "text": [
      "15 is repeated 3 times\n",
      "16 is repeated 2 times\n"
     ]
    }
   ],
   "source": [
    "# 11. Write a Python program to find the repeated items of a tuple.\n",
    "tpl=tuple(list(input('Enter the tuple elements as space-separated values:\\n').split()))\n",
    "repeat_lst=[]\n",
    "for _ in tpl:\n",
    "    if tpl.count(_) > 1 and _ not in repeat_lst:\n",
    "        repeat_lst.append(_)\n",
    "        print(_, 'is repeated', tpl.count(_), 'times')"
   ]
  },
  {
   "cell_type": "code",
   "execution_count": 22,
   "metadata": {},
   "outputs": [
    {
     "name": "stdout",
     "output_type": "stream",
     "text": [
      "[1, 2, 3]\n",
      "[4, 5, 6, 7]\n",
      "[7, 8, 9, 0, 1]\n"
     ]
    }
   ],
   "source": [
    "# 12. Write a Python program to create multiple lists.\n",
    "T=int(input('Enter the number of lists to create: '))\n",
    "lsts=[]\n",
    "for _ in range(T):\n",
    "    lst=list(map(int,input('Enter the list elements as space-separated values:\\n').split()))\n",
    "    lsts.append(lst)\n",
    "\n",
    "for _ in range(T):\n",
    "    print(lsts[_])"
   ]
  },
  {
   "cell_type": "code",
   "execution_count": 23,
   "metadata": {},
   "outputs": [
    {
     "name": "stdout",
     "output_type": "stream",
     "text": [
      "Union: {1, 12, 13, 14, 15, 16, 19, 20, 24, 89}\n",
      "Intersection: {16, 1, 12, 14}\n",
      "Difference: {24, 13, 15}\n"
     ]
    }
   ],
   "source": [
    "# 13. Write a python code for creating 2 sets \n",
    "# then perform union, intersection and difference operations on them.\n",
    "set1={12,14,1,16,15,13,24}\n",
    "set2={12,14,1,16,19,20,89}\n",
    "\n",
    "union_set=set1.union(set2)\n",
    "print('Union:', union_set)\n",
    "\n",
    "print('Intersection:', set1.intersection(set2))\n",
    "\n",
    "print('Difference:', set1.difference(set2))"
   ]
  },
  {
   "cell_type": "code",
   "execution_count": 24,
   "metadata": {},
   "outputs": [
    {
     "name": "stdout",
     "output_type": "stream",
     "text": [
      "Variable in float: 25.258\n",
      "Variable in integer: 25\n"
     ]
    }
   ],
   "source": [
    "# 14. write a python code to input a float variable from user\n",
    "# then convert it into integer type.\n",
    "flt_var=float(input('Enter the float variable: '))\n",
    "print('Variable in float:', flt_var)\n",
    "\n",
    "int_var=int(flt_var)\n",
    "print('Variable in integer:', int_var)"
   ]
  }
 ],
 "metadata": {
  "kernelspec": {
   "display_name": "Python 3",
   "language": "python",
   "name": "python3"
  },
  "language_info": {
   "codemirror_mode": {
    "name": "ipython",
    "version": 3
   },
   "file_extension": ".py",
   "mimetype": "text/x-python",
   "name": "python",
   "nbconvert_exporter": "python",
   "pygments_lexer": "ipython3",
   "version": "3.12.1"
  }
 },
 "nbformat": 4,
 "nbformat_minor": 2
}
