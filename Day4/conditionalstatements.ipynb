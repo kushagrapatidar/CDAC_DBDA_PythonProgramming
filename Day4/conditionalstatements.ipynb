{
 "cells": [
  {
   "cell_type": "code",
   "execution_count": 1,
   "metadata": {},
   "outputs": [
    {
     "name": "stdout",
     "output_type": "stream",
     "text": [
      "I will stay at home to study\n",
      "Oh!!!\n",
      "Not in if block\n"
     ]
    }
   ],
   "source": [
    "exam=True\n",
    "if exam==True:\n",
    "    print(\"I will stay at home to study\")\n",
    "    print(\"Oh!!!\")\n",
    "print(\"Not in if block\")"
   ]
  },
  {
   "cell_type": "code",
   "execution_count": 2,
   "metadata": {},
   "outputs": [
    {
     "name": "stdout",
     "output_type": "stream",
     "text": [
      "I will stay at home to study\n",
      "Oh!!!\n",
      "\n"
     ]
    }
   ],
   "source": [
    "if exam==True:\n",
    "    print(\"I will stay at home to study\")\n",
    "    print(\"Oh!!!\")\n",
    "print()"
   ]
  },
  {
   "cell_type": "code",
   "execution_count": 5,
   "metadata": {},
   "outputs": [
    {
     "name": "stdout",
     "output_type": "stream",
     "text": [
      "I will stay at home to study\n",
      "Oh :(\n"
     ]
    }
   ],
   "source": [
    "exam=True\n",
    "if exam==True:\n",
    "    print(\"I will stay at home to study\")\n",
    "    print(\"Oh :(\")\n",
    "else:\n",
    "    print(\"I will play football on the playground\")"
   ]
  },
  {
   "cell_type": "code",
   "execution_count": 7,
   "metadata": {},
   "outputs": [
    {
     "name": "stdout",
     "output_type": "stream",
     "text": [
      "9 is odd number\n",
      "Oh!\n"
     ]
    }
   ],
   "source": [
    "num=int(input(\"Enter a number: \"))\n",
    "\n",
    "if num%2==0:\n",
    "    print(num, \"is even number\")\n",
    "    print(\"yay!!\")\n",
    "else:\n",
    "    print(num, \"is odd number\")\n",
    "    print(\"Oh!\")"
   ]
  },
  {
   "cell_type": "code",
   "execution_count": 8,
   "metadata": {},
   "outputs": [
    {
     "name": "stdout",
     "output_type": "stream",
     "text": [
      "Okay movie\n",
      "you can watch it once\n"
     ]
    }
   ],
   "source": [
    "rating = float(input(\"Enter movie rating(Out of 5): \"))\n",
    "if rating>=4:\n",
    "    print(\"it i a good movie\")\n",
    "    print(\"Must watch\")\n",
    "elif rating >=2.5 and rating <4:\n",
    "    print(\"Okay movie\")\n",
    "    print(\"you can watch it once\")\n",
    "elif rating <2.5:\n",
    "    print(\"Don't watch :(\")"
   ]
  },
  {
   "cell_type": "code",
   "execution_count": 9,
   "metadata": {},
   "outputs": [
    {
     "name": "stdout",
     "output_type": "stream",
     "text": [
      "kid\n"
     ]
    }
   ],
   "source": [
    "age=15\n",
    "print('kid' if age <18 else 'adult')"
   ]
  }
 ],
 "metadata": {
  "kernelspec": {
   "display_name": "Python 3",
   "language": "python",
   "name": "python3"
  },
  "language_info": {
   "codemirror_mode": {
    "name": "ipython",
    "version": 3
   },
   "file_extension": ".py",
   "mimetype": "text/x-python",
   "name": "python",
   "nbconvert_exporter": "python",
   "pygments_lexer": "ipython3",
   "version": "3.12.1"
  }
 },
 "nbformat": 4,
 "nbformat_minor": 2
}
